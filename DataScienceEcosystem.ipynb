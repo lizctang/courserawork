{
 "cells": [
  {
   "cell_type": "markdown",
   "id": "7f1836b7-c380-4770-9b2a-b41fd840345d",
   "metadata": {},
   "source": [
    "# Data Science Tools and Ecosystem"
   ]
  },
  {
   "cell_type": "markdown",
   "id": "3a43891a-66c0-4301-9736-f1895decddcb",
   "metadata": {},
   "source": [
    "## Author: ## \n",
    "Liz Tang"
   ]
  },
  {
   "cell_type": "markdown",
   "id": "a95b6961-d1c5-4bae-9c6d-8f4260ecbedd",
   "metadata": {},
   "source": [
    "In this notebook, Data Science tools and Ecosystem are summarized. "
   ]
  },
  {
   "cell_type": "markdown",
   "id": "99535b25-869a-4fd4-88a5-cda93c3753dc",
   "metadata": {},
   "source": [
    "**Objectives:**\n",
    "- List popular languages for data science\n",
    "- List commonly used libraries in data science\n",
    "- List data science open source tools"
   ]
  },
  {
   "cell_type": "markdown",
   "id": "a9bd5273-c8a4-4fa5-8be2-ef83de48e452",
   "metadata": {},
   "source": [
    "Some of the popular languages that Data Scientists use are:\n",
    "1. Python\n",
    "2. R\n",
    "3. SQL\n",
    "4. Java"
   ]
  },
  {
   "cell_type": "markdown",
   "id": "47e89bb3-08bc-4ad9-a6d1-f869f3d66651",
   "metadata": {},
   "source": [
    "Some of the commonly used libraries used by Data Scientists include:\n",
    "1. NumPy\n",
    "2. Pandas\n",
    "3. TensorFlow"
   ]
  },
  {
   "cell_type": "markdown",
   "id": "592a0355-bcab-40de-92d4-334e0c964119",
   "metadata": {},
   "source": [
    "|Data Science Tools|\n",
    "|------------------|\n",
    "| RStudio|\n",
    "| Git|  \n",
    "|Apache Spark  |"
   ]
  },
  {
   "cell_type": "markdown",
   "id": "e1dcea56-0a08-4bc9-a098-7f9845e04533",
   "metadata": {},
   "source": [
    "### Below are a few examples of evaluating arithmetic expressions in Python:"
   ]
  },
  {
   "cell_type": "code",
   "execution_count": 11,
   "id": "55691299-fa0e-4529-bbd2-18931b90ff91",
   "metadata": {},
   "outputs": [
    {
     "data": {
      "text/plain": [
       "17"
      ]
     },
     "execution_count": 11,
     "metadata": {},
     "output_type": "execute_result"
    }
   ],
   "source": [
    "#this is simple arithmetic expression to multiply then add integers\n",
    "\n",
    "(3*4)+5"
   ]
  },
  {
   "cell_type": "code",
   "execution_count": 13,
   "id": "e84dbdbe-2a1e-4128-8a45-526d89794e6e",
   "metadata": {},
   "outputs": [
    {
     "data": {
      "text/plain": [
       "3.3333333333333335"
      ]
     },
     "execution_count": 13,
     "metadata": {},
     "output_type": "execute_result"
    }
   ],
   "source": [
    "#this will convert 200 minutes to hours by dividing by 60\n",
    "\n",
    "200/60"
   ]
  },
  {
   "cell_type": "code",
   "execution_count": null,
   "id": "d677f52f-6999-48b4-b47f-f90b4ac046f1",
   "metadata": {},
   "outputs": [],
   "source": []
  }
 ],
 "metadata": {
  "kernelspec": {
   "display_name": "Python 3 (ipykernel)",
   "language": "python",
   "name": "python3"
  },
  "language_info": {
   "codemirror_mode": {
    "name": "ipython",
    "version": 3
   },
   "file_extension": ".py",
   "mimetype": "text/x-python",
   "name": "python",
   "nbconvert_exporter": "python",
   "pygments_lexer": "ipython3",
   "version": "3.12.7"
  }
 },
 "nbformat": 4,
 "nbformat_minor": 5
}
